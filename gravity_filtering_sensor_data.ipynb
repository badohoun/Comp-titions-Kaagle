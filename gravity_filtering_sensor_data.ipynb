{
 "cells": [
  {
   "cell_type": "code",
   "execution_count": 2,
   "metadata": {},
   "outputs": [],
   "source": [
    "\n",
    "import os \n",
    "\n",
    "import warnings\n",
    "\n",
    "warnings.simplefilter('ignore')\n",
    "\n",
    "# Import default_timer to compute durations\n",
    "from timeit import default_timer as timer\n",
    "start_time=timer()\n",
    "\n",
    "# Importing numpy \n",
    "import numpy as np\n",
    "\n",
    "# Importing Scipy \n",
    "import scipy as sp\n",
    "\n",
    "# Importing Pandas Library \n",
    "import pandas as pd\n",
    "\n",
    "# import glob function to scrap files path\n",
    "from glob import glob\n",
    "\n",
    "# import display() for better visualitions of DataFrames and arrays\n",
    "from IPython.display import display\n",
    "\n",
    "\n",
    "\n",
    "# import pyplot for plotting\n",
    "import matplotlib.pyplot as plt\n",
    "\n",
    "plt.style.use('bmh') # for better plots"
   ]
  },
  {
   "cell_type": "markdown",
   "metadata": {},
   "source": [
    "## Load accelerometer dataset "
   ]
  },
  {
   "cell_type": "code",
   "execution_count": 5,
   "metadata": {},
   "outputs": [
    {
     "name": "stderr",
     "output_type": "stream",
     "text": [
      "b'Skipping line 150771: expected 9 fields, saw 12\\n'\n"
     ]
    }
   ],
   "source": [
    "def load_acc_dataset(df):\n",
    "    data = pd.read_csv(df , error_bad_lines = False , engine = 'c' , encoding = 'utf-8' , header = 1)\n",
    "    data.columns = ['dateentry' , 'deviceid' , 'acc_x' , 'acc_y' , 'acc_z' , 'pitch' , 'roll' , 'yaw' , 'date' ]\n",
    "    del data['date']\n",
    "    return data \n",
    "\n",
    "\n",
    "\n",
    "\n",
    "\n",
    "\n",
    "accelerometer_data = load_acc_dataset('accelerometer.csv')\n",
    "\n",
    "Phone_poche = load_acc_dataset('accelerometer_iphone_poche_extract2.csv')\n",
    "\n",
    "verticalite_acc_data = load_acc_dataset('verticalite_accelerometer_28_04_2020.csv')\n",
    "\n",
    "Phone_fixe_df = accelerometer_data[accelerometer_data.deviceid == 'unknown_1563053406#ANONYMOUSTOKEN2536']"
   ]
  },
  {
   "cell_type": "markdown",
   "metadata": {},
   "source": [
    "# Load gyroscope dataset"
   ]
  },
  {
   "cell_type": "code",
   "execution_count": 6,
   "metadata": {},
   "outputs": [],
   "source": [
    "def load_dataset(df):\n",
    "    data = pd.read_csv(df , error_bad_lines = False , engine = 'c' , encoding = 'utf-8' , header = 1)\n",
    "    data.columns = ['dateentry' , 'deviceid' , 'gyro_x' , 'gyro_y' , 'gyro_z' , 'pitch' , 'roll' , 'yaw' , 'date' ]\n",
    "    del data['date']\n",
    "    return data \n",
    "\n",
    "verticalite_gyro_data = load_dataset('verticalite_gyroscope_28_04_2020.csv')"
   ]
  },
  {
   "cell_type": "markdown",
   "metadata": {},
   "source": [
    "# Load gps dataset "
   ]
  },
  {
   "cell_type": "code",
   "execution_count": 7,
   "metadata": {},
   "outputs": [],
   "source": [
    "def load_dataset(df):\n",
    "    data = pd.read_csv(df , error_bad_lines = False , engine = 'c' , encoding = 'utf-8' , header = 1)\n",
    "    data.columns = ['dateentry' , 'deviceid' , 'latitude' , 'longitude' , 'altitude' , 'bearing' , 'speed' , 'accuracy']\n",
    "    return data \n",
    "\n",
    "verticalite_gps_data = load_dataset('verticalite_gps_28_04_2020.csv')"
   ]
  },
  {
   "cell_type": "code",
   "execution_count": 8,
   "metadata": {},
   "outputs": [
    {
     "data": {
      "text/html": [
       "<div>\n",
       "<style scoped>\n",
       "    .dataframe tbody tr th:only-of-type {\n",
       "        vertical-align: middle;\n",
       "    }\n",
       "\n",
       "    .dataframe tbody tr th {\n",
       "        vertical-align: top;\n",
       "    }\n",
       "\n",
       "    .dataframe thead th {\n",
       "        text-align: right;\n",
       "    }\n",
       "</style>\n",
       "<table border=\"1\" class=\"dataframe\">\n",
       "  <thead>\n",
       "    <tr style=\"text-align: right;\">\n",
       "      <th></th>\n",
       "      <th>dateentry</th>\n",
       "      <th>deviceid</th>\n",
       "      <th>acc_x</th>\n",
       "      <th>acc_y</th>\n",
       "      <th>acc_z</th>\n",
       "      <th>pitch</th>\n",
       "      <th>roll</th>\n",
       "      <th>yaw</th>\n",
       "    </tr>\n",
       "  </thead>\n",
       "  <tbody>\n",
       "    <tr>\n",
       "      <th>0</th>\n",
       "      <td>1575271194806</td>\n",
       "      <td>unknown_1563053406#ANONYMOUSTOKEN2536</td>\n",
       "      <td>-0.092984</td>\n",
       "      <td>0.878751</td>\n",
       "      <td>0.410030</td>\n",
       "      <td>0.223003</td>\n",
       "      <td>-1.124534</td>\n",
       "      <td>2.995621</td>\n",
       "    </tr>\n",
       "    <tr>\n",
       "      <th>2</th>\n",
       "      <td>1575271194821</td>\n",
       "      <td>unknown_1563053406#ANONYMOUSTOKEN2536</td>\n",
       "      <td>-0.049773</td>\n",
       "      <td>0.853118</td>\n",
       "      <td>0.366819</td>\n",
       "      <td>0.134865</td>\n",
       "      <td>-1.161399</td>\n",
       "      <td>2.933950</td>\n",
       "    </tr>\n",
       "  </tbody>\n",
       "</table>\n",
       "</div>"
      ],
      "text/plain": [
       "       dateentry                               deviceid     acc_x     acc_y  \\\n",
       "0  1575271194806  unknown_1563053406#ANONYMOUSTOKEN2536 -0.092984  0.878751   \n",
       "2  1575271194821  unknown_1563053406#ANONYMOUSTOKEN2536 -0.049773  0.853118   \n",
       "\n",
       "      acc_z     pitch      roll       yaw  \n",
       "0  0.410030  0.223003 -1.124534  2.995621  \n",
       "2  0.366819  0.134865 -1.161399  2.933950  "
      ]
     },
     "metadata": {},
     "output_type": "display_data"
    },
    {
     "name": "stdout",
     "output_type": "stream",
     "text": [
      "Données issus du téléphone posé sur le support fixe None\n"
     ]
    },
    {
     "data": {
      "text/html": [
       "<div>\n",
       "<style scoped>\n",
       "    .dataframe tbody tr th:only-of-type {\n",
       "        vertical-align: middle;\n",
       "    }\n",
       "\n",
       "    .dataframe tbody tr th {\n",
       "        vertical-align: top;\n",
       "    }\n",
       "\n",
       "    .dataframe thead th {\n",
       "        text-align: right;\n",
       "    }\n",
       "</style>\n",
       "<table border=\"1\" class=\"dataframe\">\n",
       "  <thead>\n",
       "    <tr style=\"text-align: right;\">\n",
       "      <th></th>\n",
       "      <th>dateentry</th>\n",
       "      <th>deviceid</th>\n",
       "      <th>acc_x</th>\n",
       "      <th>acc_y</th>\n",
       "      <th>acc_z</th>\n",
       "      <th>pitch</th>\n",
       "      <th>roll</th>\n",
       "      <th>yaw</th>\n",
       "    </tr>\n",
       "  </thead>\n",
       "  <tbody>\n",
       "    <tr>\n",
       "      <th>0</th>\n",
       "      <td>1580495825360</td>\n",
       "      <td>8928B6C5-C36A-44B5-BBBF-12100FC55298#ANONYMOUS...</td>\n",
       "      <td>-0.819275</td>\n",
       "      <td>0.541763</td>\n",
       "      <td>-0.176636</td>\n",
       "      <td>-0.572641</td>\n",
       "      <td>-1.348868</td>\n",
       "      <td>-0.462344</td>\n",
       "    </tr>\n",
       "    <tr>\n",
       "      <th>1</th>\n",
       "      <td>1580324289814</td>\n",
       "      <td>8928B6C5-C36A-44B5-BBBF-12100FC55298#ANONYMOUS...</td>\n",
       "      <td>-0.678116</td>\n",
       "      <td>0.658081</td>\n",
       "      <td>-0.218063</td>\n",
       "      <td>-0.757051</td>\n",
       "      <td>-1.290942</td>\n",
       "      <td>-0.356489</td>\n",
       "    </tr>\n",
       "  </tbody>\n",
       "</table>\n",
       "</div>"
      ],
      "text/plain": [
       "       dateentry                                           deviceid     acc_x  \\\n",
       "0  1580495825360  8928B6C5-C36A-44B5-BBBF-12100FC55298#ANONYMOUS... -0.819275   \n",
       "1  1580324289814  8928B6C5-C36A-44B5-BBBF-12100FC55298#ANONYMOUS... -0.678116   \n",
       "\n",
       "      acc_y     acc_z     pitch      roll       yaw  \n",
       "0  0.541763 -0.176636 -0.572641 -1.348868 -0.462344  \n",
       "1  0.658081 -0.218063 -0.757051 -1.290942 -0.356489  "
      ]
     },
     "metadata": {},
     "output_type": "display_data"
    },
    {
     "name": "stdout",
     "output_type": "stream",
     "text": [
      "Données issus du téléphone en poche None\n"
     ]
    },
    {
     "data": {
      "text/html": [
       "<div>\n",
       "<style scoped>\n",
       "    .dataframe tbody tr th:only-of-type {\n",
       "        vertical-align: middle;\n",
       "    }\n",
       "\n",
       "    .dataframe tbody tr th {\n",
       "        vertical-align: top;\n",
       "    }\n",
       "\n",
       "    .dataframe thead th {\n",
       "        text-align: right;\n",
       "    }\n",
       "</style>\n",
       "<table border=\"1\" class=\"dataframe\">\n",
       "  <thead>\n",
       "    <tr style=\"text-align: right;\">\n",
       "      <th></th>\n",
       "      <th>dateentry</th>\n",
       "      <th>deviceid</th>\n",
       "      <th>acc_x</th>\n",
       "      <th>acc_y</th>\n",
       "      <th>acc_z</th>\n",
       "      <th>pitch</th>\n",
       "      <th>roll</th>\n",
       "      <th>yaw</th>\n",
       "    </tr>\n",
       "  </thead>\n",
       "  <tbody>\n",
       "    <tr>\n",
       "      <th>0</th>\n",
       "      <td>1588081456869</td>\n",
       "      <td>unknown_1563053406#ANONYMOUSTOKEN2536</td>\n",
       "      <td>-0.092984</td>\n",
       "      <td>1.023764</td>\n",
       "      <td>0.515983</td>\n",
       "      <td>0.178295</td>\n",
       "      <td>-1.097497</td>\n",
       "      <td>0.568647</td>\n",
       "    </tr>\n",
       "    <tr>\n",
       "      <th>1</th>\n",
       "      <td>1588081238873</td>\n",
       "      <td>unknown_1563053406#ANONYMOUSTOKEN2536</td>\n",
       "      <td>-0.023895</td>\n",
       "      <td>1.008628</td>\n",
       "      <td>0.413204</td>\n",
       "      <td>0.057765</td>\n",
       "      <td>-1.181397</td>\n",
       "      <td>-2.842648</td>\n",
       "    </tr>\n",
       "  </tbody>\n",
       "</table>\n",
       "</div>"
      ],
      "text/plain": [
       "       dateentry                               deviceid     acc_x     acc_y  \\\n",
       "0  1588081456869  unknown_1563053406#ANONYMOUSTOKEN2536 -0.092984  1.023764   \n",
       "1  1588081238873  unknown_1563053406#ANONYMOUSTOKEN2536 -0.023895  1.008628   \n",
       "\n",
       "      acc_z     pitch      roll       yaw  \n",
       "0  0.515983  0.178295 -1.097497  0.568647  \n",
       "1  0.413204  0.057765 -1.181397 -2.842648  "
      ]
     },
     "metadata": {},
     "output_type": "display_data"
    },
    {
     "name": "stdout",
     "output_type": "stream",
     "text": [
      "Données issus du téléphone posé sur le support fixe deuxième captation: accelerometre None\n"
     ]
    },
    {
     "data": {
      "text/html": [
       "<div>\n",
       "<style scoped>\n",
       "    .dataframe tbody tr th:only-of-type {\n",
       "        vertical-align: middle;\n",
       "    }\n",
       "\n",
       "    .dataframe tbody tr th {\n",
       "        vertical-align: top;\n",
       "    }\n",
       "\n",
       "    .dataframe thead th {\n",
       "        text-align: right;\n",
       "    }\n",
       "</style>\n",
       "<table border=\"1\" class=\"dataframe\">\n",
       "  <thead>\n",
       "    <tr style=\"text-align: right;\">\n",
       "      <th></th>\n",
       "      <th>dateentry</th>\n",
       "      <th>deviceid</th>\n",
       "      <th>gyro_x</th>\n",
       "      <th>gyro_y</th>\n",
       "      <th>gyro_z</th>\n",
       "      <th>pitch</th>\n",
       "      <th>roll</th>\n",
       "      <th>yaw</th>\n",
       "    </tr>\n",
       "  </thead>\n",
       "  <tbody>\n",
       "    <tr>\n",
       "      <th>0</th>\n",
       "      <td>1588063368441</td>\n",
       "      <td>unknown_1563053406#ANONYMOUSTOKEN2536</td>\n",
       "      <td>-0.150424</td>\n",
       "      <td>0.046830</td>\n",
       "      <td>-0.021879</td>\n",
       "      <td>-0.116351</td>\n",
       "      <td>-1.006427</td>\n",
       "      <td>-1.324905</td>\n",
       "    </tr>\n",
       "    <tr>\n",
       "      <th>1</th>\n",
       "      <td>1588062671058</td>\n",
       "      <td>unknown_1563053406#ANONYMOUSTOKEN2536</td>\n",
       "      <td>-0.244431</td>\n",
       "      <td>-0.734079</td>\n",
       "      <td>-1.137529</td>\n",
       "      <td>-0.126605</td>\n",
       "      <td>-0.259260</td>\n",
       "      <td>-2.936523</td>\n",
       "    </tr>\n",
       "  </tbody>\n",
       "</table>\n",
       "</div>"
      ],
      "text/plain": [
       "       dateentry                               deviceid    gyro_x    gyro_y  \\\n",
       "0  1588063368441  unknown_1563053406#ANONYMOUSTOKEN2536 -0.150424  0.046830   \n",
       "1  1588062671058  unknown_1563053406#ANONYMOUSTOKEN2536 -0.244431 -0.734079   \n",
       "\n",
       "     gyro_z     pitch      roll       yaw  \n",
       "0 -0.021879 -0.116351 -1.006427 -1.324905  \n",
       "1 -1.137529 -0.126605 -0.259260 -2.936523  "
      ]
     },
     "metadata": {},
     "output_type": "display_data"
    },
    {
     "name": "stdout",
     "output_type": "stream",
     "text": [
      "Données issus du téléphone posé sur le support fixe deuxième captation: gyroscope None\n"
     ]
    },
    {
     "data": {
      "text/html": [
       "<div>\n",
       "<style scoped>\n",
       "    .dataframe tbody tr th:only-of-type {\n",
       "        vertical-align: middle;\n",
       "    }\n",
       "\n",
       "    .dataframe tbody tr th {\n",
       "        vertical-align: top;\n",
       "    }\n",
       "\n",
       "    .dataframe thead th {\n",
       "        text-align: right;\n",
       "    }\n",
       "</style>\n",
       "<table border=\"1\" class=\"dataframe\">\n",
       "  <thead>\n",
       "    <tr style=\"text-align: right;\">\n",
       "      <th></th>\n",
       "      <th>dateentry</th>\n",
       "      <th>deviceid</th>\n",
       "      <th>latitude</th>\n",
       "      <th>longitude</th>\n",
       "      <th>altitude</th>\n",
       "      <th>bearing</th>\n",
       "      <th>speed</th>\n",
       "      <th>accuracy</th>\n",
       "    </tr>\n",
       "  </thead>\n",
       "  <tbody>\n",
       "    <tr>\n",
       "      <th>0</th>\n",
       "      <td>1588112111344</td>\n",
       "      <td>unknown_1563053406#ANONYMOUSTOKEN2536</td>\n",
       "      <td>48.845793</td>\n",
       "      <td>2.491227</td>\n",
       "      <td>117.799995</td>\n",
       "      <td>0.000000</td>\n",
       "      <td>0.000000</td>\n",
       "      <td>16.903</td>\n",
       "    </tr>\n",
       "    <tr>\n",
       "      <th>1</th>\n",
       "      <td>1588062752391</td>\n",
       "      <td>unknown_1563053406#ANONYMOUSTOKEN2536</td>\n",
       "      <td>48.845971</td>\n",
       "      <td>2.491274</td>\n",
       "      <td>116.500000</td>\n",
       "      <td>1.034463</td>\n",
       "      <td>1.749597</td>\n",
       "      <td>18.039</td>\n",
       "    </tr>\n",
       "  </tbody>\n",
       "</table>\n",
       "</div>"
      ],
      "text/plain": [
       "       dateentry                               deviceid   latitude  longitude  \\\n",
       "0  1588112111344  unknown_1563053406#ANONYMOUSTOKEN2536  48.845793   2.491227   \n",
       "1  1588062752391  unknown_1563053406#ANONYMOUSTOKEN2536  48.845971   2.491274   \n",
       "\n",
       "     altitude   bearing     speed  accuracy  \n",
       "0  117.799995  0.000000  0.000000    16.903  \n",
       "1  116.500000  1.034463  1.749597    18.039  "
      ]
     },
     "metadata": {},
     "output_type": "display_data"
    },
    {
     "name": "stdout",
     "output_type": "stream",
     "text": [
      "Données issus du téléphone posé sur le support fixe deuxième captation: gps None\n"
     ]
    }
   ],
   "source": [
    "print(f\"Données issus du téléphone posé sur le support fixe {display(Phone_fixe_df.head(2))}\")\n",
    "\n",
    "print(f\"Données issus du téléphone en poche {display(Phone_poche.head(2))}\")\n",
    "\n",
    "print(f\"Données issus du téléphone posé sur le support fixe deuxième captation: accelerometre {display(verticalite_acc_data.head(2))}\")\n",
    "\n",
    "print(f\"Données issus du téléphone posé sur le support fixe deuxième captation: gyroscope {display(verticalite_gyro_data.head(2))}\")\n",
    "\n",
    "print(f\"Données issus du téléphone posé sur le support fixe deuxième captation: gps {display(verticalite_gps_data.head(2))}\")\n"
   ]
  },
  {
   "cell_type": "markdown",
   "metadata": {},
   "source": [
    "# Data preprocessing "
   ]
  },
  {
   "cell_type": "code",
   "execution_count": 11,
   "metadata": {},
   "outputs": [],
   "source": [
    "def preprocessing(df):\n",
    "    df['dateentry'] = pd.to_datetime(df.dateentry , unit = 'ms')\n",
    "    df = df.drop_duplicates()\n",
    "    \n",
    "    \n",
    "    \n",
    "    \n",
    "    return df.sort_values(by = ['dateentry'] , ascending = True)\n",
    "    \n",
    "    \n",
    "    \n",
    "Phone_fixe_df = preprocessing(Phone_fixe_df)\n",
    "Phone_poche_df = preprocessing(Phone_poche)\n",
    "verticalite_acc_data = preprocessing(verticalite_acc_data)\n",
    "verticalite_gyro_data = preprocessing(verticalite_gyro_data)\n",
    "verticalite_gps_data = preprocessing(verticalite_gps_data)"
   ]
  },
  {
   "cell_type": "markdown",
   "metadata": {},
   "source": [
    "\n",
    "# Make a copy of the raw data processed"
   ]
  },
  {
   "cell_type": "code",
   "execution_count": 18,
   "metadata": {
    "scrolled": true
   },
   "outputs": [],
   "source": [
    "    \n",
    "Phone_fixe_df_copy = Phone_fixe_df.copy()\n",
    "Phone_poche_copy = Phone_poche_df.copy()\n",
    "verticalite_acc_data_copy = verticalite_acc_data.copy()\n",
    "verticalite_gyro_data_copy = verticalite_gyro_data.copy()\n",
    "verticalite_gps_data_copy = verticalite_gps_data.copy()"
   ]
  },
  {
   "cell_type": "markdown",
   "metadata": {},
   "source": [
    "# Multiply by gravity "
   ]
  },
  {
   "cell_type": "code",
   "execution_count": 304,
   "metadata": {},
   "outputs": [],
   "source": [
    "Phone_fixe_df_copy[['pitch' , 'roll' , 'yaw']] *= 0.985 \n",
    "Phone_poche_copy[['pitch' , 'roll' , 'yaw']] *= 0.985 \n",
    "verticalite_acc_data_copy[['pitch' , 'roll' , 'yaw']] *=0.985"
   ]
  },
  {
   "cell_type": "markdown",
   "metadata": {},
   "source": [
    "## Visualize Correlation in the data use seaborn subplot "
   ]
  },
  {
   "cell_type": "code",
   "execution_count": 305,
   "metadata": {},
   "outputs": [
    {
     "data": {
      "text/plain": [
       "<matplotlib.axes._subplots.AxesSubplot at 0x23ea639f108>"
      ]
     },
     "execution_count": 305,
     "metadata": {},
     "output_type": "execute_result"
    },
    {
     "data": {
      "image/png": "[encoded data removed]",
      "text/plain": [
       "<Figure size 1080x432 with 8 Axes>"
      ]
     },
     "metadata": {
      "needs_background": "light"
     },
     "output_type": "display_data"
    }
   ],
   "source": [
    "\n",
    "\n",
    "f, p = plt.subplots(2, 2, sharey = True, figsize = (15, 6))\n",
    "plt.subplots_adjust(hspace = .5)\n",
    "sns.heatmap(Phone_fixe_df_copy[['acc_y' , 'acc_z' , 'acc_x', 'pitch' , 'roll' , 'yaw']].corr() , cmap =   sns.color_palette('RdBu_r' , 7) , ax = p[0,0])\n",
    "sns.heatmap(Phone_poche_copy[['acc_y' , 'acc_z' , 'acc_x', 'pitch' , 'roll' , 'yaw']].corr() , cmap =   sns.color_palette('RdBu_r' , 7) , ax = p[0,1])\n",
    "\n",
    "sns.heatmap(verticalite_acc_data[['acc_y' , 'acc_z' , 'acc_x', 'pitch' , 'roll' , 'yaw']].corr() , cmap =   sns.color_palette('RdBu_r' , 7) , ax = p[1,0])\n",
    "\n",
    "sns.heatmap(verticalite_gyro_data[['gyro_y' , 'gyro_z' , 'gyro_x', 'pitch' , 'roll' , 'yaw']].corr() , cmap =   sns.color_palette('RdBu_r' , 7) , ax = p[1,1])\n"
   ]
  },
  {
   "cell_type": "markdown",
   "metadata": {},
   "source": [
    "# Implémentation de la matrice de rotation "
   ]
  },
  {
   "cell_type": "code",
   "execution_count": 22,
   "metadata": {},
   "outputs": [],
   "source": [
    "def rotation_Matrix(df):\n",
    "    rollMatrix = np.matrix([ # roulis\n",
    "[1, 0, 0],\n",
    "[0, np.cos(df.roll), -np.sin(df.roll)],\n",
    "[0, np.sin(df.roll), np.cos(df.roll)]\n",
    "])\n",
    "    \n",
    "    \n",
    "    pitchMatrix = np.matrix([  # tangage\n",
    "[np.cos(df.pitch), 0, np.sin(df.pitch)],\n",
    "[0, 1, 0],\n",
    "[-np.sin(df.pitch), 0, np.cos(df.pitch)]\n",
    "])\n",
    "    yawMatrix = np.matrix([   # lacet\n",
    "[np.cos(df.yaw), -np.sin(df.yaw), 0],\n",
    "[np.sin(df.yaw), np.cos(df.yaw), 0],\n",
    "[0, 0, 1]\n",
    "])\n",
    "\n",
    "    Rotation_Matrix = np.dot(yawMatrix , pitchMatrix , rollMatrix )\n",
    "    \n",
    "    return Rotation_Matrix\n",
    "\n",
    " \n",
    "\n",
    " \n",
    "rotation_matrix_acc_fixe_data_december = rotation_Matrix(Phone_fixe_df_copy)\n",
    "\n",
    " \n",
    "\n",
    "\n",
    "rotation_matrix_acc_fixe_data_may = rotation_Matrix(verticalite_acc_data_copy)\n",
    "\n",
    " \n",
    "\n",
    "\n",
    "rotation_matrix_gyro_data_may =  rotation_Matrix(verticalite_gyro_data_copy)"
   ]
  },
  {
   "cell_type": "code",
   "execution_count": 26,
   "metadata": {},
   "outputs": [],
   "source": [
    "#np.transpose(rotation_matrix_acc_fixe_data_may[1]) *  np.array([0,0,-0.9857])                       "
   ]
  },
  {
   "cell_type": "markdown",
   "metadata": {},
   "source": [
    "# Checks if a matrix is a valid rotation matrix "
   ]
  },
  {
   "cell_type": "code",
   "execution_count": null,
   "metadata": {},
   "outputs": [],
   "source": [
    "print(f\"Il s'agit  en effet d'une matrice de rotation :  {isRotationMatrix(rotation_matrix_acc_fixe_data_december)}\")\n",
    "\n",
    "\n",
    "print(f\"Il s'agit  en effet d'une matrice de rotation :  {isRotationMatrix(rotation_matrix_acc_fixe_data_may)}\")\n",
    "\n",
    "print(f\"Il s'agit  en effet d'une matrice de rotation :  {isRotationMatrix(rotation_matrix_gyro_data_may)}\")"
   ]
  },
  {
   "cell_type": "code",
   "execution_count": 391,
   "metadata": {},
   "outputs": [
    {
     "data": {
      "text/plain": [
       "1        1.177569e-16\n",
       "3        1.841750e-16\n",
       "5        5.887847e-17\n",
       "7        2.521025e-16\n",
       "9        2.419675e-16\n",
       "             ...     \n",
       "77990    1.149970e-18\n",
       "77991    3.142485e-16\n",
       "77992    2.483815e-16\n",
       "77993    1.660199e-16\n",
       "77994    4.063228e-18\n",
       "Length: 40442, dtype: float64"
      ]
     },
     "execution_count": 391,
     "metadata": {},
     "output_type": "execute_result"
    }
   ],
   "source": [
    "\n",
    "\n",
    "def isRotationMatrix(R) :\n",
    "    Rt = np.transpose(R)\n",
    "    shouldBeIdentity = np.dot(Rt, R)\n",
    "\n",
    "    I = np.identity(3, dtype = R.dtype)\n",
    "\n",
    "    n = np.linalg.norm(I - shouldBeIdentity)\n",
    "\n",
    "    return n < 1e-6\n",
    "\n"
   ]
  }
 ],
 "metadata": {
  "kernelspec": {
   "display_name": "Python 3",
   "language": "python",
   "name": "python3"
  },
  "language_info": {
   "codemirror_mode": {
    "name": "ipython",
    "version": 3
   },
   "file_extension": ".py",
   "mimetype": "text/x-python",
   "name": "python",
   "nbconvert_exporter": "python",
   "pygments_lexer": "ipython3",
   "version": "3.7.6"
  }
 },
 "nbformat": 4,
 "nbformat_minor": 4
}
